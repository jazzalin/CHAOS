{
 "cells": [
  {
   "cell_type": "markdown",
   "metadata": {},
   "source": [
    "# (Rotary inverted) double pendulum model\n",
    "\n",
    "## EOM\n",
    "$$(m_1+m_2)l_1\\ddot{\\theta_1}+m_2l_2\\ddot{\\theta_2}cos(\\theta_1-\\theta_2)+m_2l_2\\dot{\\theta_2}^2sin(\\theta_1-\\theta_2)+(m_1+m_2)gsin\\theta_1=\\tau$$\n",
    "\n",
    "$$m_2l_2\\ddot{\\theta_2} + m_2l_1\\ddot{\\theta_1}cos(\\theta_1-\\theta_2)-m_2l_1\\dot{\\theta_1}sin(\\theta_1-\\theta_2)+m_2gsin(\\theta_2) = 0$$\n",
    "\n",
    "Consider the case where $m_1=m_2=1$ and $l_1=l_2=1$ and generalized coordinates $q = \\begin{bmatrix}\\theta_1 \\ \\theta_2\\end{bmatrix}$\n",
    "\n",
    "$$D(q)\\ddot{q} + C(q,\\dot{q})\\dot{q} + \\nabla qP = 0$$\n",
    "\n",
    "## Linearization"
   ]
  }
 ],
 "metadata": {
  "kernelspec": {
   "display_name": "Python 3",
   "language": "python",
   "name": "python3"
  },
  "language_info": {
   "codemirror_mode": {
    "name": "ipython",
    "version": 3
   },
   "file_extension": ".py",
   "mimetype": "text/x-python",
   "name": "python",
   "nbconvert_exporter": "python",
   "pygments_lexer": "ipython3",
   "version": "3.6.8"
  }
 },
 "nbformat": 4,
 "nbformat_minor": 2
}
